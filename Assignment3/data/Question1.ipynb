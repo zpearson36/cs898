{
 "cells": [
  {
   "cell_type": "code",
   "execution_count": 18,
   "id": "3b23e518-398a-44c2-b942-9ba20857d77a",
   "metadata": {},
   "outputs": [
    {
     "name": "stdout",
     "output_type": "stream",
     "text": [
      "Loading Data\n",
      "Creating Tokenizers\n"
     ]
    }
   ],
   "source": [
    "import numpy as np\n",
    "import os\n",
    "import tensorflow as tf\n",
    "\n",
    "print(\"Loading Data\")\n",
    "with open(\"data/small_vocab_en.txt\", \"r\") as f:\n",
    "    en = f.read().split(\"\\n\")\n",
    "with open(\"data/small_vocab_fr.txt\", \"r\", encoding=\"UTF-8\") as f:\n",
    "    fr = f.read().split(\"\\n\")\n",
    "\n",
    "print(\"Creating Tokenizers\")\n",
    "en_tokenizer = tf.keras.preprocessing.text.Tokenizer(char_level=False)\n",
    "fr_tokenizer = tf.keras.preprocessing.text.Tokenizer(char_level=False)"
   ]
  },
  {
   "cell_type": "code",
   "execution_count": 19,
   "id": "dbc09627-f43a-4efd-9f7d-8dd28be77eb5",
   "metadata": {},
   "outputs": [
    {
     "name": "stdout",
     "output_type": "stream",
     "text": [
      "Tokenizing English\n"
     ]
    }
   ],
   "source": [
    "    print(\"Tokenizing English\")\n",
    "    en_tokenizer.fit_on_texts(en)\n",
    "    en_tokenized = en_tokenizer.texts_to_sequences(en)"
   ]
  },
  {
   "cell_type": "code",
   "execution_count": 20,
   "id": "406e2f36-0b12-48e4-8f7a-ae2df5b9ffe5",
   "metadata": {},
   "outputs": [
    {
     "name": "stdout",
     "output_type": "stream",
     "text": [
      "new jersey is sometimes quiet during autumn , and it is snowy in april .\n",
      "[17, 23, 1, 8, 67, 4, 39, 7, 3, 1, 55, 2, 44]\n"
     ]
    }
   ],
   "source": [
    "print(en[0])\n",
    "print(en_tokenized[0])"
   ]
  },
  {
   "cell_type": "code",
   "execution_count": 21,
   "id": "2815b646-a139-47f8-bc11-4ea27d2d02f6",
   "metadata": {},
   "outputs": [
    {
     "name": "stdout",
     "output_type": "stream",
     "text": [
      "Tokenizing French\n"
     ]
    }
   ],
   "source": [
    "    print(\"Tokenizing French\")\n",
    "    fr_tokenizer.fit_on_texts(fr)\n",
    "    fr_tokenized = fr_tokenizer.texts_to_sequences(fr)"
   ]
  },
  {
   "cell_type": "code",
   "execution_count": 22,
   "id": "e072cb6a-28fc-46d9-a1e2-77c4598c5dc6",
   "metadata": {},
   "outputs": [
    {
     "name": "stdout",
     "output_type": "stream",
     "text": [
      "new jersey est parfois calme pendant l' automne , et il est neigeux en avril .\n",
      "[35, 34, 1, 8, 67, 37, 11, 24, 6, 3, 1, 112, 2, 50]\n"
     ]
    }
   ],
   "source": [
    "print(fr[0])\n",
    "print(fr_tokenized[0])"
   ]
  },
  {
   "cell_type": "code",
   "execution_count": 23,
   "id": "ab716eff-964a-40ca-b351-f441db6d59a3",
   "metadata": {},
   "outputs": [
    {
     "name": "stdout",
     "output_type": "stream",
     "text": [
      "Padding Tokens\n"
     ]
    }
   ],
   "source": [
    "print(\"Padding Tokens\")\n",
    "en_max_length = max([len(x) for x in en_tokenized])\n",
    "en_padded = tf.keras.preprocessing.sequence.pad_sequences(en_tokenized, maxlen = en_max_length, padding = 'post')\n",
    "fr_max_length = max([len(x) for x in fr_tokenized])\n",
    "fr_padded = tf.keras.preprocessing.sequence.pad_sequences(fr_tokenized, maxlen = fr_max_length, padding = 'post')"
   ]
  },
  {
   "cell_type": "code",
   "execution_count": 24,
   "id": "b7e78f00-d1ea-4753-98b8-0275712c04b7",
   "metadata": {},
   "outputs": [
    {
     "data": {
      "text/plain": [
       "(137861, 21, 1)"
      ]
     },
     "execution_count": 24,
     "metadata": {},
     "output_type": "execute_result"
    }
   ],
   "source": [
    "en_padded = en_padded.reshape(*en_padded.shape, 1)\n",
    "en_padded.shape\n",
    "fr_padded = fr_padded.reshape(*fr_padded.shape, 1)\n",
    "fr_padded.shape"
   ]
  },
  {
   "cell_type": "code",
   "execution_count": 25,
   "id": "05371a81-69c5-4cd8-aaf7-4b3eb1f21fca",
   "metadata": {},
   "outputs": [
    {
     "data": {
      "text/plain": [
       "345"
      ]
     },
     "execution_count": 25,
     "metadata": {},
     "output_type": "execute_result"
    }
   ],
   "source": [
    "len(fr_tokenizer.word_index)+1"
   ]
  },
  {
   "cell_type": "code",
   "execution_count": 26,
   "id": "0f4fa37d-c0f2-41b6-a002-b01225a1a573",
   "metadata": {},
   "outputs": [
    {
     "name": "stdout",
     "output_type": "stream",
     "text": [
      "(137861, 15, 1)\n",
      "(137861, 21, 1)\n",
      "(137861, 21, 1)\n"
     ]
    }
   ],
   "source": [
    "print(en_padded.shape)\n",
    "print(fr_padded.shape)\n",
    "en_padded = tf.keras.preprocessing.sequence.pad_sequences(en_padded, fr_max_length)\n",
    "en_padded = en_padded.reshape((-1, fr_padded.shape[-2], 1))\n",
    "print(en_padded.shape)"
   ]
  },
  {
   "cell_type": "code",
   "execution_count": 27,
   "id": "50419693-837a-4628-af6a-d50d3fe0ae1b",
   "metadata": {},
   "outputs": [
    {
     "name": "stdout",
     "output_type": "stream",
     "text": [
      "Model: \"model_1\"\n",
      "_________________________________________________________________\n",
      " Layer (type)                Output Shape              Param #   \n",
      "=================================================================\n",
      " input_2 (InputLayer)        [(None, 21, 1)]           0         \n",
      "                                                                 \n",
      " simple_rnn_5 (SimpleRNN)    (None, 21, 64)            4224      \n",
      "                                                                 \n",
      " simple_rnn_6 (SimpleRNN)    (None, 21, 64)            8256      \n",
      "                                                                 \n",
      " time_distributed_1 (TimeDis  (None, 21, 346)          22490     \n",
      " tributed)                                                       \n",
      "                                                                 \n",
      " activation_1 (Activation)   (None, 21, 346)           0         \n",
      "                                                                 \n",
      "=================================================================\n",
      "Total params: 34,970\n",
      "Trainable params: 34,970\n",
      "Non-trainable params: 0\n",
      "_________________________________________________________________\n"
     ]
    }
   ],
   "source": [
    "input_shape = shape=en_padded.shape[1:]\n",
    "input_layer = tf.keras.Input(shape=input_shape)\n",
    "rnn1 = tf.keras.layers.SimpleRNN(units=64, return_sequences=True)(input_layer)\n",
    "rnn2 = tf.keras.layers.SimpleRNN(units=64, return_sequences=True)(rnn1)\n",
    "output = tf.keras.layers.TimeDistributed(tf.keras.layers.Dense(len(fr_tokenizer.word_index)+2))(rnn2)\n",
    "en_padded = en_padded.astype(\"float64\")\n",
    "model = tf.keras.Model(input_layer, tf.keras.layers.Activation('softmax')(output))\n",
    "model.compile(loss='sparse_categorical_crossentropy', optimizer=tf.keras.optimizers.Adam(1e-3), metrics=['accuracy'])\n",
    "model.summary()"
   ]
  },
  {
   "cell_type": "code",
   "execution_count": 17,
   "id": "680df76c-1d5c-447b-a651-92d0f094e1d3",
   "metadata": {},
   "outputs": [
    {
     "data": {
      "text/plain": [
       "<tf.Tensor: shape=(32, 1), dtype=float32, numpy=\n",
       "array([[-0.7924938 ],\n",
       "       [-0.67908573],\n",
       "       [-0.92488134],\n",
       "       [-0.61848885],\n",
       "       [-0.2698248 ],\n",
       "       [-0.66829515],\n",
       "       [-0.6452007 ],\n",
       "       [-0.60497856],\n",
       "       [-0.6633147 ],\n",
       "       [-0.8222345 ],\n",
       "       [-0.8668877 ],\n",
       "       [-0.74706286],\n",
       "       [-0.92752016],\n",
       "       [-0.8825594 ],\n",
       "       [-0.9231137 ],\n",
       "       [-0.5727092 ],\n",
       "       [-0.63355345],\n",
       "       [-0.7772994 ],\n",
       "       [-0.8308711 ],\n",
       "       [-0.7867554 ],\n",
       "       [-0.9032331 ],\n",
       "       [-0.89143157],\n",
       "       [-0.82360923],\n",
       "       [-0.57804286],\n",
       "       [-0.69223523],\n",
       "       [-0.90722555],\n",
       "       [-0.47508335],\n",
       "       [-0.79781204],\n",
       "       [-0.8052938 ],\n",
       "       [-0.76453435],\n",
       "       [-0.8579754 ],\n",
       "       [-0.6569055 ]], dtype=float32)>"
      ]
     },
     "execution_count": 17,
     "metadata": {},
     "output_type": "execute_result"
    }
   ],
   "source": [
    "inputs = np.random.random((32, 10, 8))\n",
    "simple_rnn = tf.keras.layers.SimpleRNN(1)\n",
    "simple_rnn(inputs)"
   ]
  },
  {
   "cell_type": "code",
   "execution_count": 207,
   "id": "8563a9b7-8c65-42a3-9d75-40525f7f94fc",
   "metadata": {},
   "outputs": [
    {
     "name": "stdout",
     "output_type": "stream",
     "text": [
      "199\n"
     ]
    }
   ],
   "source": [
    "print(len(en_tokenizer.word_index.keys()))"
   ]
  },
  {
   "cell_type": "code",
   "execution_count": 28,
   "id": "b436e12d-32f9-4cf5-9b05-5cb49ee7ef50",
   "metadata": {
    "scrolled": true
   },
   "outputs": [
    {
     "name": "stdout",
     "output_type": "stream",
     "text": [
      "Epoch 1/10\n",
      "6893/6893 [==============================] - 33s 5ms/step - loss: 1.9672 - accuracy: 0.5268 - val_loss: 1.8541 - val_accuracy: 0.5399\n",
      "Epoch 2/10\n",
      "6893/6893 [==============================] - 33s 5ms/step - loss: 1.8451 - accuracy: 0.5385 - val_loss: 1.8321 - val_accuracy: 0.5417\n",
      "Epoch 3/10\n",
      "6893/6893 [==============================] - 34s 5ms/step - loss: 1.8286 - accuracy: 0.5411 - val_loss: 1.8150 - val_accuracy: 0.5439\n",
      "Epoch 4/10\n",
      "6893/6893 [==============================] - 33s 5ms/step - loss: 1.8210 - accuracy: 0.5418 - val_loss: 1.8201 - val_accuracy: 0.5417\n",
      "Epoch 5/10\n",
      "6893/6893 [==============================] - 33s 5ms/step - loss: 1.8177 - accuracy: 0.5421 - val_loss: 1.8076 - val_accuracy: 0.5444\n",
      "Epoch 6/10\n",
      "6893/6893 [==============================] - 37s 5ms/step - loss: 1.8150 - accuracy: 0.5424 - val_loss: 1.8061 - val_accuracy: 0.5450\n",
      "Epoch 7/10\n",
      "6893/6893 [==============================] - 34s 5ms/step - loss: 1.8122 - accuracy: 0.5428 - val_loss: 1.8051 - val_accuracy: 0.5440\n",
      "Epoch 8/10\n",
      "6893/6893 [==============================] - 35s 5ms/step - loss: 1.8115 - accuracy: 0.5426 - val_loss: 1.8121 - val_accuracy: 0.5437\n",
      "Epoch 9/10\n",
      "6893/6893 [==============================] - 35s 5ms/step - loss: 1.8069 - accuracy: 0.5434 - val_loss: 1.7981 - val_accuracy: 0.5455\n",
      "Epoch 10/10\n",
      "6893/6893 [==============================] - 34s 5ms/step - loss: 1.8039 - accuracy: 0.5435 - val_loss: 1.7967 - val_accuracy: 0.5453\n"
     ]
    },
    {
     "data": {
      "text/plain": [
       "<keras.callbacks.History at 0x2b922451090>"
      ]
     },
     "execution_count": 28,
     "metadata": {},
     "output_type": "execute_result"
    }
   ],
   "source": [
    "\n",
    "model.fit(en_padded, fr_padded, batch_size=16, epochs=10, validation_split=.2)"
   ]
  },
  {
   "cell_type": "code",
   "execution_count": 29,
   "id": "6aecc24d-d27b-4217-ae6f-d4e7b8a35527",
   "metadata": {},
   "outputs": [
    {
     "name": "stdout",
     "output_type": "stream",
     "text": [
      "4309/4309 [==============================] - 10s 2ms/step - loss: 1.7981 - accuracy: 0.5444\n"
     ]
    },
    {
     "data": {
      "text/plain": [
       "[1.7981255054473877, 0.5443678498268127]"
      ]
     },
     "execution_count": 29,
     "metadata": {},
     "output_type": "execute_result"
    }
   ],
   "source": [
    "model.evaluate(en_padded, fr_padded)"
   ]
  },
  {
   "cell_type": "code",
   "execution_count": 31,
   "id": "b03f0f0e-78cf-457e-99a7-16c07279d2dd",
   "metadata": {},
   "outputs": [],
   "source": [
    "t = model(en_padded[0])"
   ]
  },
  {
   "cell_type": "code",
   "execution_count": null,
   "id": "f02a7ad8-60a7-4960-bdcf-aef3d3d2684c",
   "metadata": {},
   "outputs": [],
   "source": []
  },
  {
   "cell_type": "code",
   "execution_count": 210,
   "id": "64481dce-e068-43aa-abd6-9bc172f7fb6d",
   "metadata": {},
   "outputs": [
    {
     "name": "stdout",
     "output_type": "stream",
     "text": [
      "Model: \"model_36\"\n",
      "_________________________________________________________________\n",
      " Layer (type)                Output Shape              Param #   \n",
      "=================================================================\n",
      " input_28 (InputLayer)       [(None, 21, 1)]           0         \n",
      "                                                                 \n",
      " lstm (LSTM)                 (None, 21, 64)            16896     \n",
      "                                                                 \n",
      " lstm_1 (LSTM)               (None, 21, 64)            33024     \n",
      "                                                                 \n",
      " time_distributed_24 (TimeDi  (None, 21, 346)          22490     \n",
      " stributed)                                                      \n",
      "                                                                 \n",
      " activation_8 (Activation)   (None, 21, 346)           0         \n",
      "                                                                 \n",
      "=================================================================\n",
      "Total params: 72,410\n",
      "Trainable params: 72,410\n",
      "Non-trainable params: 0\n",
      "_________________________________________________________________\n"
     ]
    }
   ],
   "source": [
    "input_shape = shape=en_padded.shape[1:]\n",
    "input_layer = tf.keras.Input(shape=input_shape)\n",
    "rnn1 = tf.keras.layers.LSTM(units=64, return_sequences=True)(input_layer)\n",
    "rnn2 = tf.keras.layers.LSTM(units=64, return_sequences=True)(rnn1)\n",
    "output = tf.keras.layers.TimeDistributed(tf.keras.layers.Dense(len(fr_tokenizer.word_index)+2))(rnn2)\n",
    "en_padded = en_padded.astype(\"float64\")\n",
    "model = tf.keras.Model(input_layer, tf.keras.layers.Activation('softmax')(output))\n",
    "model.compile(loss='sparse_categorical_crossentropy', optimizer=tf.keras.optimizers.Adam(1e-3), metrics=['accuracy'])\n",
    "model.summary()"
   ]
  },
  {
   "cell_type": "code",
   "execution_count": 211,
   "id": "050de6dc-8b7a-4f29-a085-35967d6f030f",
   "metadata": {},
   "outputs": [
    {
     "name": "stdout",
     "output_type": "stream",
     "text": [
      "Epoch 1/10\n",
      "6893/6893 [==============================] - 56s 8ms/step - loss: 2.0250 - accuracy: 0.5207 - val_loss: 1.8652 - val_accuracy: 0.5390\n",
      "Epoch 2/10\n",
      "6893/6893 [==============================] - 57s 8ms/step - loss: 1.8514 - accuracy: 0.5383 - val_loss: 1.8326 - val_accuracy: 0.5430\n",
      "Epoch 3/10\n",
      "6893/6893 [==============================] - 60s 9ms/step - loss: 1.8253 - accuracy: 0.5416 - val_loss: 1.8103 - val_accuracy: 0.5452\n",
      "Epoch 4/10\n",
      "6893/6893 [==============================] - 64s 9ms/step - loss: 1.8121 - accuracy: 0.5433 - val_loss: 1.8160 - val_accuracy: 0.5429\n",
      "Epoch 5/10\n",
      "6893/6893 [==============================] - 74s 11ms/step - loss: 1.8076 - accuracy: 0.5437 - val_loss: 1.8118 - val_accuracy: 0.5442\n",
      "Epoch 6/10\n",
      "6893/6893 [==============================] - 75s 11ms/step - loss: 1.8044 - accuracy: 0.5439 - val_loss: 1.7999 - val_accuracy: 0.5452\n",
      "Epoch 7/10\n",
      "6893/6893 [==============================] - 76s 11ms/step - loss: 1.8020 - accuracy: 0.5440 - val_loss: 1.7977 - val_accuracy: 0.5451\n",
      "Epoch 8/10\n",
      "6893/6893 [==============================] - 75s 11ms/step - loss: 1.7974 - accuracy: 0.5447 - val_loss: 1.7930 - val_accuracy: 0.5460\n",
      "Epoch 9/10\n",
      "6893/6893 [==============================] - 79s 11ms/step - loss: 1.7941 - accuracy: 0.5450 - val_loss: 1.7895 - val_accuracy: 0.5465\n",
      "Epoch 10/10\n",
      "6893/6893 [==============================] - 78s 11ms/step - loss: 1.7923 - accuracy: 0.5452 - val_loss: 1.7888 - val_accuracy: 0.5460\n"
     ]
    },
    {
     "data": {
      "text/plain": [
       "<keras.callbacks.History at 0x19c89aa6ad0>"
      ]
     },
     "execution_count": 211,
     "metadata": {},
     "output_type": "execute_result"
    }
   ],
   "source": [
    "model.fit(en_padded, fr_padded, batch_size=16, epochs=10, validation_split=.2)"
   ]
  },
  {
   "cell_type": "code",
   "execution_count": 212,
   "id": "cdaaa8ba-1052-433e-9877-fbfa11c00b90",
   "metadata": {},
   "outputs": [
    {
     "name": "stdout",
     "output_type": "stream",
     "text": [
      "4309/4309 [==============================] - 22s 5ms/step - loss: 1.7895 - accuracy: 0.5455\n"
     ]
    },
    {
     "data": {
      "text/plain": [
       "[1.7894706726074219, 0.5455111861228943]"
      ]
     },
     "execution_count": 212,
     "metadata": {},
     "output_type": "execute_result"
    }
   ],
   "source": [
    "model.evaluate(en_padded, fr_padded)"
   ]
  },
  {
   "cell_type": "code",
   "execution_count": 214,
   "id": "d7ef94d1-ad40-4e66-a310-670fee7572c7",
   "metadata": {},
   "outputs": [
    {
     "name": "stdout",
     "output_type": "stream",
     "text": [
      "Model: \"model_38\"\n",
      "_________________________________________________________________\n",
      " Layer (type)                Output Shape              Param #   \n",
      "=================================================================\n",
      " input_30 (InputLayer)       [(None, 21, 1)]           0         \n",
      "                                                                 \n",
      " gru_2 (GRU)                 (None, 21, 64)            12864     \n",
      "                                                                 \n",
      " gru_3 (GRU)                 (None, 21, 64)            24960     \n",
      "                                                                 \n",
      " time_distributed_26 (TimeDi  (None, 21, 346)          22490     \n",
      " stributed)                                                      \n",
      "                                                                 \n",
      " activation_10 (Activation)  (None, 21, 346)           0         \n",
      "                                                                 \n",
      "=================================================================\n",
      "Total params: 60,314\n",
      "Trainable params: 60,314\n",
      "Non-trainable params: 0\n",
      "_________________________________________________________________\n"
     ]
    }
   ],
   "source": [
    "input_shape = shape=en_padded.shape[1:]\n",
    "input_layer = tf.keras.Input(shape=input_shape)\n",
    "rnn1 = tf.keras.layers.GRU(units=64, return_sequences=True)(input_layer)\n",
    "rnn2 = tf.keras.layers.GRU(units=64, return_sequences=True)(rnn1)\n",
    "output = tf.keras.layers.TimeDistributed(tf.keras.layers.Dense(len(fr_tokenizer.word_index)+2))(rnn2)\n",
    "en_padded = en_padded.astype(\"float64\")\n",
    "model = tf.keras.Model(input_layer, tf.keras.layers.Activation('softmax')(output))\n",
    "model.compile(loss='sparse_categorical_crossentropy', optimizer=tf.keras.optimizers.Adam(1e-3), metrics=['accuracy'])\n",
    "model.summary()"
   ]
  },
  {
   "cell_type": "code",
   "execution_count": 215,
   "id": "aa9de3bb-375f-4775-bfcb-ab7b2b3c1759",
   "metadata": {},
   "outputs": [
    {
     "name": "stdout",
     "output_type": "stream",
     "text": [
      "Epoch 1/10\n",
      "6893/6893 [==============================] - 66s 9ms/step - loss: 1.9876 - accuracy: 0.5258 - val_loss: 1.8442 - val_accuracy: 0.5404\n",
      "Epoch 2/10\n",
      "6893/6893 [==============================] - 71s 10ms/step - loss: 1.8372 - accuracy: 0.5394 - val_loss: 1.8188 - val_accuracy: 0.5414\n",
      "Epoch 3/10\n",
      "6893/6893 [==============================] - 69s 10ms/step - loss: 1.8166 - accuracy: 0.5426 - val_loss: 1.8048 - val_accuracy: 0.5456\n",
      "Epoch 4/10\n",
      "6893/6893 [==============================] - 67s 10ms/step - loss: 1.8110 - accuracy: 0.5428 - val_loss: 1.8204 - val_accuracy: 0.5432\n",
      "Epoch 5/10\n",
      "6893/6893 [==============================] - 70s 10ms/step - loss: 1.8117 - accuracy: 0.5421 - val_loss: 1.8040 - val_accuracy: 0.5456\n",
      "Epoch 6/10\n",
      "6893/6893 [==============================] - 70s 10ms/step - loss: 1.8039 - accuracy: 0.5433 - val_loss: 1.8081 - val_accuracy: 0.5449\n",
      "Epoch 7/10\n",
      "6893/6893 [==============================] - 70s 10ms/step - loss: 1.8027 - accuracy: 0.5435 - val_loss: 1.8105 - val_accuracy: 0.5430\n",
      "Epoch 8/10\n",
      "6893/6893 [==============================] - 70s 10ms/step - loss: 1.7992 - accuracy: 0.5439 - val_loss: 1.8020 - val_accuracy: 0.5441\n",
      "Epoch 9/10\n",
      "6893/6893 [==============================] - 70s 10ms/step - loss: 1.7980 - accuracy: 0.5440 - val_loss: 1.7917 - val_accuracy: 0.5458\n",
      "Epoch 10/10\n",
      "6893/6893 [==============================] - 70s 10ms/step - loss: 1.7950 - accuracy: 0.5447 - val_loss: 1.7938 - val_accuracy: 0.5453\n"
     ]
    },
    {
     "data": {
      "text/plain": [
       "<keras.callbacks.History at 0x19c857ba110>"
      ]
     },
     "execution_count": 215,
     "metadata": {},
     "output_type": "execute_result"
    }
   ],
   "source": [
    "model.fit(en_padded, fr_padded, batch_size=16, epochs=10, validation_split=.2)"
   ]
  },
  {
   "cell_type": "code",
   "execution_count": 216,
   "id": "13ba4d27-ad79-4521-853e-58a3864e7999",
   "metadata": {},
   "outputs": [
    {
     "name": "stdout",
     "output_type": "stream",
     "text": [
      "4309/4309 [==============================] - 25s 6ms/step - loss: 1.7941 - accuracy: 0.5446\n"
     ]
    },
    {
     "data": {
      "text/plain": [
       "[1.7941335439682007, 0.5445868372917175]"
      ]
     },
     "execution_count": 216,
     "metadata": {},
     "output_type": "execute_result"
    }
   ],
   "source": [
    "model.evaluate(en_padded, fr_padded)"
   ]
  }
 ],
 "metadata": {
  "kernelspec": {
   "display_name": "Python 3 (ipykernel)",
   "language": "python",
   "name": "python3"
  },
  "language_info": {
   "codemirror_mode": {
    "name": "ipython",
    "version": 3
   },
   "file_extension": ".py",
   "mimetype": "text/x-python",
   "name": "python",
   "nbconvert_exporter": "python",
   "pygments_lexer": "ipython3",
   "version": "3.10.2"
  }
 },
 "nbformat": 4,
 "nbformat_minor": 5
}
